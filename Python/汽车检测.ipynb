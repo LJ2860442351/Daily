{
 "cells": [
  {
   "cell_type": "code",
   "execution_count": 1,
   "metadata": {},
   "outputs": [
    {
     "name": "stdout",
     "output_type": "stream",
     "text": [
      "{'log_id': 1407506736866105837, 'vehicle_info': [{'probability': 0.95374626, 'location': {'top': 181, 'left': 315, 'width': 48, 'height': 39}, 'type': 'car'}, {'probability': 0.9454183, 'location': {'top': 151, 'left': 475, 'width': 25, 'height': 18}, 'type': 'car'}, {'probability': 0.87674963, 'location': {'top': 131, 'left': 461, 'width': 20, 'height': 15}, 'type': 'car'}, {'probability': 0.7152874, 'location': {'top': 117, 'left': 372, 'width': 14, 'height': 15}, 'type': 'car'}], 'vehicle_num': {'motorbike': 0, 'bus': 0, 'carplate': 0, 'car': 4, 'truck': 0, 'tricycle': 0}}\n",
      "48\n",
      "181\n",
      "315\n",
      "39\n",
      "car\n",
      "48\n",
      "315 181 48 39\n",
      "car\n",
      "25\n",
      "475 151 25 18\n",
      "car\n",
      "20\n",
      "461 131 20 15\n",
      "car\n",
      "14\n",
      "372 117 14 15\n"
     ]
    },
    {
     "data": {
      "text/plain": [
       "True"
      ]
     },
     "execution_count": 1,
     "metadata": {},
     "output_type": "execute_result"
    }
   ],
   "source": [
    "import base64\n",
    "base64_data = None\n",
    "import json\n",
    "import requests \n",
    "\n",
    "f = open('./data/cars.jpeg', 'rb')\n",
    "img = base64.b64encode(f.read())\n",
    "f.close()\n",
    "\n",
    "# with open('./data/download.jpg', 'rb') as f:    \n",
    "#     content = f.read()\n",
    "#     base64_data = base64.b64encode(content)    \n",
    "#     base64_data_str = str(base64_data, 'utf-8')\n",
    "\n",
    "# python_obj = { \"image\": img ,\"top_num\": 5}     \n",
    "# json_str = json.dumps(python_obj)\n",
    "\n",
    "\n",
    "params = {\"image\":img,\"top_num\":5}\n",
    "\n",
    "API_Key = 'j32aCcZqoVdRwUoyMq0vT7pS'\n",
    "secret_key= 'GCQB4RPtL8qZFb3R86zGNwmygi71Th3s'\n",
    "\n",
    "host = 'https://aip.baidubce.com/oauth/2.0/token?grant_type=client_credentials&client_id=' + API_Key + '&client_secret=' + secret_key\n",
    "response = requests.get(host)\n",
    "if response:\n",
    "    response_json = response.json()\n",
    "    my_access_token = response_json['access_token']\n",
    "    # print(my_access_token)\n",
    "    \n",
    "request_url = \"https://aip.baidubce.com/rest/2.0/image-classify/v1/vehicle_detect\"\n",
    "\n",
    "# params = json_str\n",
    "access_token = my_access_token\n",
    "request_url = request_url + \"?access_token=\" + access_token\n",
    "headers = {'content-type': 'application/x-www-form-urlencoded'}\n",
    "response = requests.post(request_url, data=params, headers=headers)\n",
    "if response:\n",
    "    response_json = response.json()\n",
    "    print(response_json)\n",
    "    print(response_json['vehicle_info'][0][\"location\"][\"width\"])\n",
    "    print(response_json['vehicle_info'][0][\"location\"][\"top\"])\n",
    "    print(response_json['vehicle_info'][0][\"location\"][\"left\"])    \n",
    "    print(response_json['vehicle_info'][0][\"location\"][\"height\"])\n",
    "    \n",
    "import cv2\n",
    "imgName = './data/cars.jpeg'\n",
    "img = cv2.imread(imgName)\n",
    "font =cv2.FONT_HERSHEY_SIMPLEX\n",
    "for vehicle in response_json['vehicle_info']:\n",
    "    print(vehicle['type'])\n",
    "    carName = vehicle['type']\n",
    "    print(vehicle['location']['width'])\n",
    "    width = (int)(vehicle['location']['width'])\n",
    "    top = (int)(vehicle['location']['top'])\n",
    "    left = (int)(vehicle['location']['left'])\n",
    "    height = (int)(vehicle['location']['height'])\n",
    "    print(left,top,width,height)\n",
    "    text = carName\n",
    "    cv2.rectangle(img, (left,top), (left+width,top+height), (0,255,0), 4)\n",
    "    cv2.putText(img, text, (left, top), font, 1, (0,0,255), 1)\n",
    "    #cv2.rectangle(img, (100,100), (100,100), (0,255,0), 4)\n",
    "\n",
    "# imgName = 'data/asd.jpg'\n",
    "# img = cv2.imread(imgName)\n",
    "# x = response_json['vehicle_info'][0][\"location\"][\"left\"]\n",
    "# y = response_json['vehicle_info'][0][\"location\"][\"top\"]\n",
    "# w = response_json['vehicle_info'][0][\"location\"][\"width\"]\n",
    "# h = response_json['vehicle_info'][0][\"location\"][\"height\"]\n",
    "# cv2.rectangle(img, (x,y), (x+w,y+h), (0,255,0), 4)\n",
    "\n",
    "\n",
    "#text = '001'\n",
    "#cv2.putText(img, text, (100, 100), font, 2, (0,0,255), 1)\n",
    "cv2.imwrite('new.jpg', img)\n"
   ]
  },
  {
   "cell_type": "code",
   "execution_count": null,
   "metadata": {},
   "outputs": [],
   "source": []
  }
 ],
 "metadata": {
  "kernelspec": {
   "display_name": "Python 3",
   "language": "python",
   "name": "python3"
  },
  "language_info": {
   "codemirror_mode": {
    "name": "ipython",
    "version": 3
   },
   "file_extension": ".py",
   "mimetype": "text/x-python",
   "name": "python",
   "nbconvert_exporter": "python",
   "pygments_lexer": "ipython3",
   "version": "3.8.8"
  }
 },
 "nbformat": 4,
 "nbformat_minor": 1
}
